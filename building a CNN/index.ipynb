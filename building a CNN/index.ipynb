{
 "cells": [
  {
   "cell_type": "markdown",
   "metadata": {},
   "source": [
    "# Building A CNN"
   ]
  },
  {
   "cell_type": "code",
   "execution_count": 1,
   "metadata": {},
   "outputs": [],
   "source": [
    "# importing the libraries\n",
    "\n",
    "import tensorflow as tf\n",
    "from keras.preprocessing.image import ImageDataGenerator"
   ]
  },
  {
   "cell_type": "code",
   "execution_count": 2,
   "metadata": {},
   "outputs": [
    {
     "data": {
      "text/plain": [
       "'2.15.0'"
      ]
     },
     "execution_count": 2,
     "metadata": {},
     "output_type": "execute_result"
    }
   ],
   "source": [
    "tf.__version__"
   ]
  },
  {
   "cell_type": "markdown",
   "metadata": {},
   "source": [
    "### Data preprocessing"
   ]
  },
  {
   "cell_type": "code",
   "execution_count": 25,
   "metadata": {},
   "outputs": [
    {
     "name": "stdout",
     "output_type": "stream",
     "text": [
      "Found 8000 images belonging to 2 classes.\n"
     ]
    }
   ],
   "source": [
    "# preprocessing the Training set\n",
    "\n",
    "train_datagen = ImageDataGenerator(\n",
    "    rescale=1./255,\n",
    "    shear_range=0.2,\n",
    "    zoom_range=0.2,\n",
    "    horizontal_flip=True\n",
    ")\n",
    "training_set = train_datagen.flow_from_directory(\n",
    "    'dataset/training_set',\n",
    "    target_size=(64,64),\n",
    "    batch_size=32,\n",
    "    class_mode='binary'\n",
    ")"
   ]
  },
  {
   "cell_type": "code",
   "execution_count": 6,
   "metadata": {},
   "outputs": [
    {
     "name": "stdout",
     "output_type": "stream",
     "text": [
      "Found 2000 images belonging to 2 classes.\n"
     ]
    }
   ],
   "source": [
    "# preprocessing the Test set\n",
    "\n",
    "test_datagen = ImageDataGenerator(rescale=1./255)\n",
    "test_set = test_datagen.flow_from_directory(\n",
    "    'dataset/test_set',\n",
    "    target_size=(64,64),\n",
    "    batch_size=32,\n",
    "    class_mode='binary'\n",
    ")"
   ]
  },
  {
   "cell_type": "markdown",
   "metadata": {},
   "source": [
    "### Building the CNN"
   ]
  },
  {
   "cell_type": "code",
   "execution_count": 16,
   "metadata": {},
   "outputs": [],
   "source": [
    "# initializing the CNN\n",
    "\n",
    "cnn = tf.keras.models.Sequential()"
   ]
  },
  {
   "cell_type": "code",
   "execution_count": 18,
   "metadata": {},
   "outputs": [],
   "source": [
    "# convolution\n",
    "\n",
    "cnn.add(tf.keras.layers.Conv2D(filters=32, kernel_size=3, activation='relu', input_shape=[64, 64, 3]))"
   ]
  },
  {
   "cell_type": "code",
   "execution_count": 19,
   "metadata": {},
   "outputs": [],
   "source": [
    "# pooling\n",
    "\n",
    "cnn.add(tf.keras.layers.MaxPool2D(pool_size=2, strides=2))"
   ]
  },
  {
   "cell_type": "code",
   "execution_count": 20,
   "metadata": {},
   "outputs": [],
   "source": [
    "# adding a second convolutional layer\n",
    "\n",
    "cnn.add(tf.keras.layers.Conv2D(filters=32, kernel_size=3, activation='relu'))\n",
    "cnn.add(tf.keras.layers.MaxPool2D(pool_size=2, strides=2))"
   ]
  },
  {
   "cell_type": "code",
   "execution_count": 21,
   "metadata": {},
   "outputs": [],
   "source": [
    "# flattening\n",
    "\n",
    "cnn.add(tf.keras.layers.Flatten())"
   ]
  },
  {
   "cell_type": "code",
   "execution_count": 22,
   "metadata": {},
   "outputs": [],
   "source": [
    "# full connection\n",
    "\n",
    "cnn.add(tf.keras.layers.Dense(units=128, activation='relu'))"
   ]
  },
  {
   "cell_type": "code",
   "execution_count": 23,
   "metadata": {},
   "outputs": [],
   "source": [
    "# output layer\n",
    "\n",
    "cnn.add(tf.keras.layers.Dense(units=1, activation='sigmoid'))"
   ]
  },
  {
   "cell_type": "markdown",
   "metadata": {},
   "source": [
    "### Training the CNN"
   ]
  },
  {
   "cell_type": "code",
   "execution_count": 26,
   "metadata": {},
   "outputs": [],
   "source": [
    "# compiling the CNN\n",
    "\n",
    "cnn.compile(optimizer='adam', loss='binary_crossentropy', metrics=['accuracy'])"
   ]
  },
  {
   "cell_type": "code",
   "execution_count": 27,
   "metadata": {},
   "outputs": [
    {
     "name": "stdout",
     "output_type": "stream",
     "text": [
      "Epoch 1/25\n",
      "250/250 [==============================] - 18s 71ms/step - loss: 0.6920 - accuracy: 0.5284 - val_loss: 0.6589 - val_accuracy: 0.6180\n",
      "Epoch 2/25\n",
      "250/250 [==============================] - 18s 70ms/step - loss: 0.6315 - accuracy: 0.6553 - val_loss: 0.6169 - val_accuracy: 0.6710\n",
      "Epoch 3/25\n",
      "250/250 [==============================] - 18s 73ms/step - loss: 0.5882 - accuracy: 0.6906 - val_loss: 0.5591 - val_accuracy: 0.7235\n",
      "Epoch 4/25\n",
      "250/250 [==============================] - 18s 71ms/step - loss: 0.5392 - accuracy: 0.7266 - val_loss: 0.5617 - val_accuracy: 0.7060\n",
      "Epoch 5/25\n",
      "250/250 [==============================] - 18s 74ms/step - loss: 0.5031 - accuracy: 0.7474 - val_loss: 0.5006 - val_accuracy: 0.7675\n",
      "Epoch 6/25\n",
      "250/250 [==============================] - 19s 75ms/step - loss: 0.4804 - accuracy: 0.7696 - val_loss: 0.4869 - val_accuracy: 0.7780\n",
      "Epoch 7/25\n",
      "250/250 [==============================] - 18s 72ms/step - loss: 0.4523 - accuracy: 0.7844 - val_loss: 0.4735 - val_accuracy: 0.7800\n",
      "Epoch 8/25\n",
      "250/250 [==============================] - 17s 69ms/step - loss: 0.4369 - accuracy: 0.7945 - val_loss: 0.4966 - val_accuracy: 0.7840\n",
      "Epoch 9/25\n",
      "250/250 [==============================] - 18s 71ms/step - loss: 0.4207 - accuracy: 0.8021 - val_loss: 0.5043 - val_accuracy: 0.7560\n",
      "Epoch 10/25\n",
      "250/250 [==============================] - 18s 71ms/step - loss: 0.4017 - accuracy: 0.8160 - val_loss: 0.5086 - val_accuracy: 0.7695\n",
      "Epoch 11/25\n",
      "250/250 [==============================] - 19s 75ms/step - loss: 0.4012 - accuracy: 0.8148 - val_loss: 0.4409 - val_accuracy: 0.8085\n",
      "Epoch 12/25\n",
      "250/250 [==============================] - 19s 76ms/step - loss: 0.3766 - accuracy: 0.8307 - val_loss: 0.4307 - val_accuracy: 0.8080\n",
      "Epoch 13/25\n",
      "250/250 [==============================] - 18s 73ms/step - loss: 0.3649 - accuracy: 0.8346 - val_loss: 0.4326 - val_accuracy: 0.8060\n",
      "Epoch 14/25\n",
      "250/250 [==============================] - 18s 72ms/step - loss: 0.3477 - accuracy: 0.8456 - val_loss: 0.4705 - val_accuracy: 0.8090\n",
      "Epoch 15/25\n",
      "250/250 [==============================] - 18s 73ms/step - loss: 0.3320 - accuracy: 0.8530 - val_loss: 0.4577 - val_accuracy: 0.8100\n",
      "Epoch 16/25\n",
      "250/250 [==============================] - 19s 74ms/step - loss: 0.3214 - accuracy: 0.8616 - val_loss: 0.4414 - val_accuracy: 0.8120\n",
      "Epoch 17/25\n",
      "250/250 [==============================] - 19s 74ms/step - loss: 0.3055 - accuracy: 0.8656 - val_loss: 0.4568 - val_accuracy: 0.8125\n",
      "Epoch 18/25\n",
      "250/250 [==============================] - 21s 83ms/step - loss: 0.2966 - accuracy: 0.8723 - val_loss: 0.4249 - val_accuracy: 0.8215\n",
      "Epoch 19/25\n",
      "250/250 [==============================] - 21s 83ms/step - loss: 0.2832 - accuracy: 0.8796 - val_loss: 0.4602 - val_accuracy: 0.8225\n",
      "Epoch 20/25\n",
      "250/250 [==============================] - 22s 89ms/step - loss: 0.2712 - accuracy: 0.8864 - val_loss: 0.4492 - val_accuracy: 0.8190\n",
      "Epoch 21/25\n",
      "250/250 [==============================] - 21s 85ms/step - loss: 0.2430 - accuracy: 0.8981 - val_loss: 0.5471 - val_accuracy: 0.8030\n",
      "Epoch 22/25\n",
      "250/250 [==============================] - 21s 86ms/step - loss: 0.2406 - accuracy: 0.8988 - val_loss: 0.5145 - val_accuracy: 0.7975\n",
      "Epoch 23/25\n",
      "250/250 [==============================] - 21s 86ms/step - loss: 0.2234 - accuracy: 0.9109 - val_loss: 0.5320 - val_accuracy: 0.8030\n",
      "Epoch 24/25\n",
      "250/250 [==============================] - 21s 85ms/step - loss: 0.2096 - accuracy: 0.9124 - val_loss: 0.4935 - val_accuracy: 0.8135\n",
      "Epoch 25/25\n",
      "250/250 [==============================] - 21s 85ms/step - loss: 0.2108 - accuracy: 0.9146 - val_loss: 0.4866 - val_accuracy: 0.8195\n"
     ]
    },
    {
     "data": {
      "text/plain": [
       "<keras.src.callbacks.History at 0x286e60890>"
      ]
     },
     "execution_count": 27,
     "metadata": {},
     "output_type": "execute_result"
    }
   ],
   "source": [
    "# training the CNN on the Training set and evaluating on the Test set\n",
    "\n",
    "cnn.fit(x=training_set, validation_data=test_set, epochs=25)\n"
   ]
  },
  {
   "cell_type": "markdown",
   "metadata": {},
   "source": [
    "### Making a single prediction"
   ]
  },
  {
   "cell_type": "code",
   "execution_count": 31,
   "metadata": {},
   "outputs": [
    {
     "name": "stdout",
     "output_type": "stream",
     "text": [
      "1/1 [==============================] - 0s 18ms/step\n",
      "cat\n"
     ]
    }
   ],
   "source": [
    "import numpy as np\n",
    "from keras.preprocessing import image\n",
    "\n",
    "# test_image = image.load_img('dataset/single_prediction/cat_or_dog_1.jpg', target_size=(64,64))\n",
    "test_image = image.load_img('dataset/single_prediction/cat_or_dog_2.jpg', target_size=(64,64))\n",
    "test_image = image.img_to_array(test_image)\n",
    "test_image = np.expand_dims(test_image, axis=0)\n",
    "result = cnn.predict(test_image/255.0)\n",
    "training_set.class_indices\n",
    "if result[0][0] > 0.5:\n",
    "    prediction = 'dog'\n",
    "else:\n",
    "    prediction = 'cat'\n",
    "print(prediction)"
   ]
  }
 ],
 "metadata": {
  "kernelspec": {
   "display_name": "env",
   "language": "python",
   "name": "python3"
  },
  "language_info": {
   "codemirror_mode": {
    "name": "ipython",
    "version": 3
   },
   "file_extension": ".py",
   "mimetype": "text/x-python",
   "name": "python",
   "nbconvert_exporter": "python",
   "pygments_lexer": "ipython3",
   "version": "3.11.2"
  }
 },
 "nbformat": 4,
 "nbformat_minor": 2
}
