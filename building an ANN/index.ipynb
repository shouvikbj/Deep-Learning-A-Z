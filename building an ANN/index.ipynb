{
 "cells": [
  {
   "cell_type": "markdown",
   "metadata": {},
   "source": [
    "# Building an ANN"
   ]
  },
  {
   "cell_type": "code",
   "execution_count": 5,
   "metadata": {},
   "outputs": [],
   "source": [
    "# importing the libraries\n",
    "\n",
    "import numpy as np\n",
    "import pandas as pd\n",
    "import tensorflow as tf"
   ]
  },
  {
   "cell_type": "code",
   "execution_count": 6,
   "metadata": {},
   "outputs": [
    {
     "data": {
      "text/plain": [
       "'2.15.0'"
      ]
     },
     "execution_count": 6,
     "metadata": {},
     "output_type": "execute_result"
    }
   ],
   "source": [
    "tf.__version__"
   ]
  },
  {
   "cell_type": "markdown",
   "metadata": {},
   "source": [
    "### Data preprocessing"
   ]
  },
  {
   "cell_type": "code",
   "execution_count": 9,
   "metadata": {},
   "outputs": [],
   "source": [
    "# importing the dataset\n",
    "\n",
    "dataset = pd.read_csv(\"Churn_Modelling.csv\")\n",
    "X = dataset.iloc[:, 3:-1].values\n",
    "y = dataset.iloc[:, -1].values"
   ]
  },
  {
   "cell_type": "code",
   "execution_count": 10,
   "metadata": {},
   "outputs": [
    {
     "name": "stdout",
     "output_type": "stream",
     "text": [
      "[[619 'France' 'Female' ... 1 1 101348.88]\n",
      " [608 'Spain' 'Female' ... 0 1 112542.58]\n",
      " [502 'France' 'Female' ... 1 0 113931.57]\n",
      " ...\n",
      " [709 'France' 'Female' ... 0 1 42085.58]\n",
      " [772 'Germany' 'Male' ... 1 0 92888.52]\n",
      " [792 'France' 'Female' ... 1 0 38190.78]]\n"
     ]
    }
   ],
   "source": [
    "print(X)"
   ]
  },
  {
   "cell_type": "code",
   "execution_count": 11,
   "metadata": {},
   "outputs": [
    {
     "name": "stdout",
     "output_type": "stream",
     "text": [
      "[1 0 1 ... 1 1 0]\n"
     ]
    }
   ],
   "source": [
    "print(y)"
   ]
  },
  {
   "cell_type": "code",
   "execution_count": 12,
   "metadata": {},
   "outputs": [],
   "source": [
    "# label encoding the \"Gender\" column\n",
    "\n",
    "from sklearn.preprocessing import LabelEncoder\n",
    "le = LabelEncoder()\n",
    "X[:, 2] = le.fit_transform(X[:, 2])"
   ]
  },
  {
   "cell_type": "code",
   "execution_count": 13,
   "metadata": {},
   "outputs": [
    {
     "name": "stdout",
     "output_type": "stream",
     "text": [
      "[[619 'France' 0 ... 1 1 101348.88]\n",
      " [608 'Spain' 0 ... 0 1 112542.58]\n",
      " [502 'France' 0 ... 1 0 113931.57]\n",
      " ...\n",
      " [709 'France' 0 ... 0 1 42085.58]\n",
      " [772 'Germany' 1 ... 1 0 92888.52]\n",
      " [792 'France' 0 ... 1 0 38190.78]]\n"
     ]
    }
   ],
   "source": [
    "print(X)"
   ]
  },
  {
   "cell_type": "code",
   "execution_count": 14,
   "metadata": {},
   "outputs": [],
   "source": [
    "# One Hot Encoding the \"Geography\" column\n",
    "\n",
    "from sklearn.compose import ColumnTransformer\n",
    "from sklearn.preprocessing import OneHotEncoder\n",
    "ct = ColumnTransformer(transformers=[('encoder', OneHotEncoder(), [1])], remainder='passthrough')\n",
    "X = np.array(ct.fit_transform(X))"
   ]
  },
  {
   "cell_type": "code",
   "execution_count": 15,
   "metadata": {},
   "outputs": [
    {
     "name": "stdout",
     "output_type": "stream",
     "text": [
      "[[1.0 0.0 0.0 ... 1 1 101348.88]\n",
      " [0.0 0.0 1.0 ... 0 1 112542.58]\n",
      " [1.0 0.0 0.0 ... 1 0 113931.57]\n",
      " ...\n",
      " [1.0 0.0 0.0 ... 0 1 42085.58]\n",
      " [0.0 1.0 0.0 ... 1 0 92888.52]\n",
      " [1.0 0.0 0.0 ... 1 0 38190.78]]\n"
     ]
    }
   ],
   "source": [
    "print(X)"
   ]
  },
  {
   "cell_type": "code",
   "execution_count": 18,
   "metadata": {},
   "outputs": [],
   "source": [
    "# spliting the data into the Training set and Test set\n",
    "\n",
    "from sklearn.model_selection import train_test_split\n",
    "X_train, X_test, y_train, y_test = train_test_split(X, y, test_size=0.2, random_state=0)"
   ]
  },
  {
   "cell_type": "code",
   "execution_count": 20,
   "metadata": {},
   "outputs": [],
   "source": [
    "# Feature Scaling\n",
    "\n",
    "from sklearn.preprocessing import StandardScaler\n",
    "sc = StandardScaler()\n",
    "X_train = sc.fit_transform(X_train)\n",
    "X_test = sc.transform(X_test)"
   ]
  },
  {
   "cell_type": "markdown",
   "metadata": {},
   "source": [
    "### Building the ANN"
   ]
  },
  {
   "cell_type": "code",
   "execution_count": 24,
   "metadata": {},
   "outputs": [],
   "source": [
    "# initializing the ANN\n",
    "\n",
    "ann = tf.keras.models.Sequential()"
   ]
  },
  {
   "cell_type": "code",
   "execution_count": 25,
   "metadata": {},
   "outputs": [],
   "source": [
    "# adding the input layer and the first hidden layer\n",
    "\n",
    "ann.add(tf.keras.layers.Dense(units=6, activation='relu'))"
   ]
  },
  {
   "cell_type": "code",
   "execution_count": 26,
   "metadata": {},
   "outputs": [],
   "source": [
    "# adding the second hidden layer\n",
    "\n",
    "ann.add(tf.keras.layers.Dense(units=6, activation='relu'))"
   ]
  },
  {
   "cell_type": "code",
   "execution_count": 27,
   "metadata": {},
   "outputs": [],
   "source": [
    "# adding the output layer\n",
    "\n",
    "ann.add(tf.keras.layers.Dense(units=1, activation='sigmoid'))"
   ]
  },
  {
   "cell_type": "markdown",
   "metadata": {},
   "source": [
    "### Training the ANN"
   ]
  },
  {
   "cell_type": "code",
   "execution_count": 30,
   "metadata": {},
   "outputs": [],
   "source": [
    "# Compiling the ANN\n",
    "\n",
    "ann.compile(optimizer='adam', loss='binary_crossentropy', metrics=['accuracy'])"
   ]
  },
  {
   "cell_type": "code",
   "execution_count": 31,
   "metadata": {},
   "outputs": [
    {
     "name": "stdout",
     "output_type": "stream",
     "text": [
      "Epoch 1/100\n",
      "250/250 [==============================] - 0s 450us/step - loss: 0.6623 - accuracy: 0.5699\n",
      "Epoch 2/100\n",
      "250/250 [==============================] - 0s 304us/step - loss: 0.4973 - accuracy: 0.7935\n",
      "Epoch 3/100\n",
      "250/250 [==============================] - 0s 296us/step - loss: 0.4558 - accuracy: 0.7975\n",
      "Epoch 4/100\n",
      "250/250 [==============================] - 0s 297us/step - loss: 0.4352 - accuracy: 0.8008\n",
      "Epoch 5/100\n",
      "250/250 [==============================] - 0s 300us/step - loss: 0.4215 - accuracy: 0.8043\n",
      "Epoch 6/100\n",
      "250/250 [==============================] - 0s 295us/step - loss: 0.4078 - accuracy: 0.8110\n",
      "Epoch 7/100\n",
      "250/250 [==============================] - 0s 297us/step - loss: 0.3923 - accuracy: 0.8305\n",
      "Epoch 8/100\n",
      "250/250 [==============================] - 0s 296us/step - loss: 0.3791 - accuracy: 0.8386\n",
      "Epoch 9/100\n",
      "250/250 [==============================] - 0s 296us/step - loss: 0.3705 - accuracy: 0.8447\n",
      "Epoch 10/100\n",
      "250/250 [==============================] - 0s 443us/step - loss: 0.3649 - accuracy: 0.8453\n",
      "Epoch 11/100\n",
      "250/250 [==============================] - 0s 302us/step - loss: 0.3597 - accuracy: 0.8495\n",
      "Epoch 12/100\n",
      "250/250 [==============================] - 0s 295us/step - loss: 0.3557 - accuracy: 0.8518\n",
      "Epoch 13/100\n",
      "250/250 [==============================] - 0s 295us/step - loss: 0.3526 - accuracy: 0.8543\n",
      "Epoch 14/100\n",
      "250/250 [==============================] - 0s 293us/step - loss: 0.3495 - accuracy: 0.8545\n",
      "Epoch 15/100\n",
      "250/250 [==============================] - 0s 296us/step - loss: 0.3479 - accuracy: 0.8580\n",
      "Epoch 16/100\n",
      "250/250 [==============================] - 0s 294us/step - loss: 0.3463 - accuracy: 0.8591\n",
      "Epoch 17/100\n",
      "250/250 [==============================] - 0s 298us/step - loss: 0.3446 - accuracy: 0.8589\n",
      "Epoch 18/100\n",
      "250/250 [==============================] - 0s 293us/step - loss: 0.3444 - accuracy: 0.8581\n",
      "Epoch 19/100\n",
      "250/250 [==============================] - 0s 312us/step - loss: 0.3430 - accuracy: 0.8620\n",
      "Epoch 20/100\n",
      "250/250 [==============================] - 0s 295us/step - loss: 0.3425 - accuracy: 0.8601\n",
      "Epoch 21/100\n",
      "250/250 [==============================] - 0s 307us/step - loss: 0.3422 - accuracy: 0.8608\n",
      "Epoch 22/100\n",
      "250/250 [==============================] - 0s 455us/step - loss: 0.3414 - accuracy: 0.8609\n",
      "Epoch 23/100\n",
      "250/250 [==============================] - 0s 315us/step - loss: 0.3413 - accuracy: 0.8614\n",
      "Epoch 24/100\n",
      "250/250 [==============================] - 0s 321us/step - loss: 0.3406 - accuracy: 0.8604\n",
      "Epoch 25/100\n",
      "250/250 [==============================] - 0s 311us/step - loss: 0.3405 - accuracy: 0.8615\n",
      "Epoch 26/100\n",
      "250/250 [==============================] - 0s 421us/step - loss: 0.3404 - accuracy: 0.8618\n",
      "Epoch 27/100\n",
      "250/250 [==============================] - 0s 305us/step - loss: 0.3397 - accuracy: 0.8616\n",
      "Epoch 28/100\n",
      "250/250 [==============================] - 0s 301us/step - loss: 0.3393 - accuracy: 0.8612\n",
      "Epoch 29/100\n",
      "250/250 [==============================] - 0s 304us/step - loss: 0.3394 - accuracy: 0.8621\n",
      "Epoch 30/100\n",
      "250/250 [==============================] - 0s 299us/step - loss: 0.3392 - accuracy: 0.8626\n",
      "Epoch 31/100\n",
      "250/250 [==============================] - 0s 295us/step - loss: 0.3378 - accuracy: 0.8634\n",
      "Epoch 32/100\n",
      "250/250 [==============================] - 0s 295us/step - loss: 0.3386 - accuracy: 0.8640\n",
      "Epoch 33/100\n",
      "250/250 [==============================] - 0s 294us/step - loss: 0.3385 - accuracy: 0.8633\n",
      "Epoch 34/100\n",
      "250/250 [==============================] - 0s 295us/step - loss: 0.3381 - accuracy: 0.8645\n",
      "Epoch 35/100\n",
      "250/250 [==============================] - 0s 293us/step - loss: 0.3379 - accuracy: 0.8624\n",
      "Epoch 36/100\n",
      "250/250 [==============================] - 0s 292us/step - loss: 0.3374 - accuracy: 0.8622\n",
      "Epoch 37/100\n",
      "250/250 [==============================] - 0s 298us/step - loss: 0.3371 - accuracy: 0.8635\n",
      "Epoch 38/100\n",
      "250/250 [==============================] - 0s 293us/step - loss: 0.3373 - accuracy: 0.8633\n",
      "Epoch 39/100\n",
      "250/250 [==============================] - 0s 294us/step - loss: 0.3370 - accuracy: 0.8640\n",
      "Epoch 40/100\n",
      "250/250 [==============================] - 0s 293us/step - loss: 0.3368 - accuracy: 0.8621\n",
      "Epoch 41/100\n",
      "250/250 [==============================] - 0s 296us/step - loss: 0.3370 - accuracy: 0.8627\n",
      "Epoch 42/100\n",
      "250/250 [==============================] - 0s 291us/step - loss: 0.3363 - accuracy: 0.8635\n",
      "Epoch 43/100\n",
      "250/250 [==============================] - 0s 294us/step - loss: 0.3369 - accuracy: 0.8635\n",
      "Epoch 44/100\n",
      "250/250 [==============================] - 0s 291us/step - loss: 0.3366 - accuracy: 0.8627\n",
      "Epoch 45/100\n",
      "250/250 [==============================] - 0s 296us/step - loss: 0.3366 - accuracy: 0.8635\n",
      "Epoch 46/100\n",
      "250/250 [==============================] - 0s 292us/step - loss: 0.3366 - accuracy: 0.8636\n",
      "Epoch 47/100\n",
      "250/250 [==============================] - 0s 293us/step - loss: 0.3362 - accuracy: 0.8634\n",
      "Epoch 48/100\n",
      "250/250 [==============================] - 0s 293us/step - loss: 0.3356 - accuracy: 0.8612\n",
      "Epoch 49/100\n",
      "250/250 [==============================] - 0s 294us/step - loss: 0.3357 - accuracy: 0.8640\n",
      "Epoch 50/100\n",
      "250/250 [==============================] - 0s 290us/step - loss: 0.3359 - accuracy: 0.8625\n",
      "Epoch 51/100\n",
      "250/250 [==============================] - 0s 300us/step - loss: 0.3358 - accuracy: 0.8626\n",
      "Epoch 52/100\n",
      "250/250 [==============================] - 0s 313us/step - loss: 0.3354 - accuracy: 0.8619\n",
      "Epoch 53/100\n",
      "250/250 [==============================] - 0s 310us/step - loss: 0.3352 - accuracy: 0.8630\n",
      "Epoch 54/100\n",
      "250/250 [==============================] - 0s 305us/step - loss: 0.3350 - accuracy: 0.8621\n",
      "Epoch 55/100\n",
      "250/250 [==============================] - 0s 305us/step - loss: 0.3353 - accuracy: 0.8620\n",
      "Epoch 56/100\n",
      "250/250 [==============================] - 0s 300us/step - loss: 0.3348 - accuracy: 0.8640\n",
      "Epoch 57/100\n",
      "250/250 [==============================] - 0s 304us/step - loss: 0.3349 - accuracy: 0.8610\n",
      "Epoch 58/100\n",
      "250/250 [==============================] - 0s 292us/step - loss: 0.3349 - accuracy: 0.8631\n",
      "Epoch 59/100\n",
      "250/250 [==============================] - 0s 292us/step - loss: 0.3345 - accuracy: 0.8627\n",
      "Epoch 60/100\n",
      "250/250 [==============================] - 0s 302us/step - loss: 0.3345 - accuracy: 0.8627\n",
      "Epoch 61/100\n",
      "250/250 [==============================] - 0s 373us/step - loss: 0.3344 - accuracy: 0.8602\n",
      "Epoch 62/100\n",
      "250/250 [==============================] - 0s 425us/step - loss: 0.3339 - accuracy: 0.8635\n",
      "Epoch 63/100\n",
      "250/250 [==============================] - 0s 335us/step - loss: 0.3342 - accuracy: 0.8645\n",
      "Epoch 64/100\n",
      "250/250 [==============================] - 0s 309us/step - loss: 0.3341 - accuracy: 0.8645\n",
      "Epoch 65/100\n",
      "250/250 [==============================] - 0s 307us/step - loss: 0.3342 - accuracy: 0.8626\n",
      "Epoch 66/100\n",
      "250/250 [==============================] - 0s 316us/step - loss: 0.3339 - accuracy: 0.8633\n",
      "Epoch 67/100\n",
      "250/250 [==============================] - 0s 417us/step - loss: 0.3338 - accuracy: 0.8640\n",
      "Epoch 68/100\n",
      "250/250 [==============================] - 0s 295us/step - loss: 0.3333 - accuracy: 0.8620\n",
      "Epoch 69/100\n",
      "250/250 [==============================] - 0s 305us/step - loss: 0.3333 - accuracy: 0.8631\n",
      "Epoch 70/100\n",
      "250/250 [==============================] - 0s 303us/step - loss: 0.3336 - accuracy: 0.8619\n",
      "Epoch 71/100\n",
      "250/250 [==============================] - 0s 307us/step - loss: 0.3334 - accuracy: 0.8615\n",
      "Epoch 72/100\n",
      "250/250 [==============================] - 0s 305us/step - loss: 0.3335 - accuracy: 0.8635\n",
      "Epoch 73/100\n",
      "250/250 [==============================] - 0s 297us/step - loss: 0.3334 - accuracy: 0.8645\n",
      "Epoch 74/100\n",
      "250/250 [==============================] - 0s 299us/step - loss: 0.3327 - accuracy: 0.8635\n",
      "Epoch 75/100\n",
      "250/250 [==============================] - 0s 304us/step - loss: 0.3329 - accuracy: 0.8633\n",
      "Epoch 76/100\n",
      "250/250 [==============================] - 0s 303us/step - loss: 0.3327 - accuracy: 0.8645\n",
      "Epoch 77/100\n",
      "250/250 [==============================] - 0s 295us/step - loss: 0.3330 - accuracy: 0.8616\n",
      "Epoch 78/100\n",
      "250/250 [==============================] - 0s 292us/step - loss: 0.3330 - accuracy: 0.8625\n",
      "Epoch 79/100\n",
      "250/250 [==============================] - 0s 294us/step - loss: 0.3326 - accuracy: 0.8646\n",
      "Epoch 80/100\n",
      "250/250 [==============================] - 0s 292us/step - loss: 0.3323 - accuracy: 0.8636\n",
      "Epoch 81/100\n",
      "250/250 [==============================] - 0s 294us/step - loss: 0.3326 - accuracy: 0.8635\n",
      "Epoch 82/100\n",
      "250/250 [==============================] - 0s 293us/step - loss: 0.3328 - accuracy: 0.8644\n",
      "Epoch 83/100\n",
      "250/250 [==============================] - 0s 293us/step - loss: 0.3326 - accuracy: 0.8637\n",
      "Epoch 84/100\n",
      "250/250 [==============================] - 0s 292us/step - loss: 0.3326 - accuracy: 0.8629\n",
      "Epoch 85/100\n",
      "250/250 [==============================] - 0s 290us/step - loss: 0.3324 - accuracy: 0.8635\n",
      "Epoch 86/100\n",
      "250/250 [==============================] - 0s 292us/step - loss: 0.3324 - accuracy: 0.8636\n",
      "Epoch 87/100\n",
      "250/250 [==============================] - 0s 291us/step - loss: 0.3322 - accuracy: 0.8625\n",
      "Epoch 88/100\n",
      "250/250 [==============================] - 0s 295us/step - loss: 0.3325 - accuracy: 0.8636\n",
      "Epoch 89/100\n",
      "250/250 [==============================] - 0s 294us/step - loss: 0.3322 - accuracy: 0.8636\n",
      "Epoch 90/100\n",
      "250/250 [==============================] - 0s 292us/step - loss: 0.3324 - accuracy: 0.8626\n",
      "Epoch 91/100\n",
      "250/250 [==============================] - 0s 291us/step - loss: 0.3323 - accuracy: 0.8637\n",
      "Epoch 92/100\n",
      "250/250 [==============================] - 0s 292us/step - loss: 0.3321 - accuracy: 0.8637\n",
      "Epoch 93/100\n",
      "250/250 [==============================] - 0s 293us/step - loss: 0.3316 - accuracy: 0.8630\n",
      "Epoch 94/100\n",
      "250/250 [==============================] - 0s 293us/step - loss: 0.3319 - accuracy: 0.8640\n",
      "Epoch 95/100\n",
      "250/250 [==============================] - 0s 295us/step - loss: 0.3319 - accuracy: 0.8650\n",
      "Epoch 96/100\n",
      "250/250 [==============================] - 0s 294us/step - loss: 0.3314 - accuracy: 0.8637\n",
      "Epoch 97/100\n",
      "250/250 [==============================] - 0s 292us/step - loss: 0.3315 - accuracy: 0.8629\n",
      "Epoch 98/100\n",
      "250/250 [==============================] - 0s 290us/step - loss: 0.3317 - accuracy: 0.8643\n",
      "Epoch 99/100\n",
      "250/250 [==============================] - 0s 292us/step - loss: 0.3323 - accuracy: 0.8649\n",
      "Epoch 100/100\n",
      "250/250 [==============================] - 0s 294us/step - loss: 0.3315 - accuracy: 0.8658\n"
     ]
    },
    {
     "data": {
      "text/plain": [
       "<keras.src.callbacks.History at 0x15fb28650>"
      ]
     },
     "execution_count": 31,
     "metadata": {},
     "output_type": "execute_result"
    }
   ],
   "source": [
    "# Training the ANN on the Training set\n",
    "\n",
    "ann.fit(X_train, y_train, batch_size=32, epochs=100)"
   ]
  },
  {
   "cell_type": "markdown",
   "metadata": {},
   "source": [
    "### Making the predictions and evaluating the model"
   ]
  },
  {
   "cell_type": "code",
   "execution_count": 33,
   "metadata": {},
   "outputs": [
    {
     "name": "stdout",
     "output_type": "stream",
     "text": [
      "1/1 [==============================] - 0s 11ms/step\n",
      "[[False]]\n"
     ]
    }
   ],
   "source": [
    "# Predicting the result of a single observation\n",
    "\n",
    "print(ann.predict(sc.transform([[1, 0, 0, 600, 1, 40, 3, 60000, 2, 1, 1, 50000]])) > 0.5)"
   ]
  },
  {
   "cell_type": "code",
   "execution_count": 35,
   "metadata": {},
   "outputs": [
    {
     "name": "stdout",
     "output_type": "stream",
     "text": [
      "63/63 [==============================] - 0s 269us/step\n",
      "[[0 0]\n",
      " [0 1]\n",
      " [0 0]\n",
      " ...\n",
      " [0 0]\n",
      " [0 0]\n",
      " [0 0]]\n"
     ]
    }
   ],
   "source": [
    "# Predicting the Test set results\n",
    "\n",
    "y_pred = ann.predict(X_test)\n",
    "y_pred = (y_pred > 0.5)\n",
    "print(np.concatenate((y_pred.reshape(len(y_pred), 1), y_test.reshape(len(y_test), 1)), axis=1))"
   ]
  },
  {
   "cell_type": "code",
   "execution_count": 36,
   "metadata": {},
   "outputs": [
    {
     "name": "stdout",
     "output_type": "stream",
     "text": [
      "[[1517   78]\n",
      " [ 200  205]]\n"
     ]
    },
    {
     "data": {
      "text/plain": [
       "0.861"
      ]
     },
     "execution_count": 36,
     "metadata": {},
     "output_type": "execute_result"
    }
   ],
   "source": [
    "# Making the Confusing Matrix\n",
    "\n",
    "from sklearn.metrics import confusion_matrix, accuracy_score\n",
    "cm = confusion_matrix(y_test, y_pred)\n",
    "print(cm)\n",
    "accuracy_score(y_test, y_pred)"
   ]
  }
 ],
 "metadata": {
  "kernelspec": {
   "display_name": "env",
   "language": "python",
   "name": "python3"
  },
  "language_info": {
   "codemirror_mode": {
    "name": "ipython",
    "version": 3
   },
   "file_extension": ".py",
   "mimetype": "text/x-python",
   "name": "python",
   "nbconvert_exporter": "python",
   "pygments_lexer": "ipython3",
   "version": "3.11.2"
  }
 },
 "nbformat": 4,
 "nbformat_minor": 2
}
